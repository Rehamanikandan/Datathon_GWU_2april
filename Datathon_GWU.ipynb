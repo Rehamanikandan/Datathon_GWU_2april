{
  "nbformat": 4,
  "nbformat_minor": 0,
  "metadata": {
    "colab": {
      "name": "Datathon_GWU.ipynb",
      "provenance": []
    },
    "kernelspec": {
      "name": "python3",
      "display_name": "Python 3"
    },
    "language_info": {
      "name": "python"
    },
    "accelerator": "GPU"
  },
  "cells": [
    {
      "cell_type": "markdown",
      "metadata": {
        "id": "UfNqtAcpkbMW"
      },
      "source": [
        "# **GWU - DATATHON**\n",
        "**ABSTRACT**\n",
        "\n",
        "The crash data provided by Metropolitan Police Department had 596381 observations with 14 features. The columns Object Id, CCn and Vehicle Id looks like they don't have much influence on the target \"fatal\", so they were removed. In the dataset, the attribute 'age' had missing values. Hence, the missing values were filled with median of the column. The Exploratory Data Analysis, showed that the target have only minor relations with other variables but with 'speeding', it had strong positive correlation than others.It shows that whenever there is an recording of speeding as True, the chance of fatality is also more. The dataset was imbalanced, hence resampling technique was used to balance the minority problem.The random forest model developed had an accuracy of 99.9% in predicting the target variable.Then selected only 6 most important features using selectKBest and f_classif. Here the model complexity is reduced a lot with very little decrease in accuracy\n",
        "Cross Validation gave nearly 99.8% of accurate results. Most of the times the default values for hyper parameters of the models are same that we get through the hyper parameter tunning. That's the reason the models parameters weren't tuned, since there will not be much difference in normal model and tunned model.\n",
        "\n",
        "\n",
        "\n",
        "\n",
        "\n",
        "Notebook submitted by Rehapriadarsini Manikandasamy (First semester, M.S. in Datascience student)"
      ]
    },
    {
      "cell_type": "markdown",
      "metadata": {
        "id": "NTWmTn8s0Bst"
      },
      "source": [
        "# **About the Dataset:**\n",
        "\n",
        "These crash data are derived from the Metropolitan Police Department's (MPD) crash data management system (COBALT) and represent DDOT's attempt to summarize some of the most requested elements of the crash data.  Further, DDOT has attempted to enhance this summary by locating each crash location along the DDOT center line, providing a number of location references for each crash.  In the event that location data is missing or incomplete for a crash, it is unable to be published within this dataset.\n",
        "\n",
        "\n",
        "Crash details related table,\n",
        "Type of participant (driver, occupant, bicyclist, pedestrian)\n",
        "Age of participants\n",
        "If injured, severity (minor, major, fatal)\n",
        "Type of vehicle (passenger car, large truck, taxi, government, bicycle, pedestrian, etc)\n",
        "If persons issued a ticket\n",
        "If a vehicle, the state (jurisdiction) license plate was issued (not license plate number)\n",
        "Are any persons deemed ‘impaired’\n",
        "Was person in vehicle where speeding was indicated\n",
        "\n",
        "Data source: https://opendata.dc.gov/datasets/70248b73c20f46b0a5ee895fc91d6222\n"
      ]
    },
    {
      "cell_type": "markdown",
      "metadata": {
        "id": "ylqh6lvG65Kl"
      },
      "source": [
        "# **Project**"
      ]
    },
    {
      "cell_type": "markdown",
      "metadata": {
        "id": "sbPWS7q02RQ7"
      },
      "source": [
        "# **Data Preprocessing:**"
      ]
    },
    {
      "cell_type": "markdown",
      "metadata": {
        "id": "JEx8O8Yd3gpI"
      },
      "source": [
        "**Load dataset:**"
      ]
    },
    {
      "cell_type": "code",
      "metadata": {
        "colab": {
          "resources": {
            "http://localhost:8080/nbextensions/google.colab/files.js": {
              "data": "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",
              "ok": true,
              "headers": [
                [
                  "content-type",
                  "application/javascript"
                ]
              ],
              "status": 200,
              "status_text": ""
            }
          },
          "base_uri": "https://localhost:8080/",
          "height": 73
        },
        "id": "yxkbRMv2zbMV",
        "outputId": "2dbbe645-852c-4237-d887-974b6291fb7d"
      },
      "source": [
        "from google.colab import files\n",
        "uploaded = files.upload()"
      ],
      "execution_count": 1,
      "outputs": [
        {
          "output_type": "display_data",
          "data": {
            "text/html": [
              "\n",
              "     <input type=\"file\" id=\"files-dfedabc3-2c50-490b-961e-5c4a51b3f540\" name=\"files[]\" multiple disabled\n",
              "        style=\"border:none\" />\n",
              "     <output id=\"result-dfedabc3-2c50-490b-961e-5c4a51b3f540\">\n",
              "      Upload widget is only available when the cell has been executed in the\n",
              "      current browser session. Please rerun this cell to enable.\n",
              "      </output>\n",
              "      <script src=\"/nbextensions/google.colab/files.js\"></script> "
            ],
            "text/plain": [
              "<IPython.core.display.HTML object>"
            ]
          },
          "metadata": {
            "tags": []
          }
        },
        {
          "output_type": "stream",
          "text": [
            "Saving Crash_Details_Table.csv to Crash_Details_Table.csv\n"
          ],
          "name": "stdout"
        }
      ]
    },
    {
      "cell_type": "markdown",
      "metadata": {
        "id": "eCS0yxH1Khxt"
      },
      "source": [
        "let's load the dataset and see first few rows of the dataset to understand the basic structure of data."
      ]
    },
    {
      "cell_type": "code",
      "metadata": {
        "colab": {
          "base_uri": "https://localhost:8080/",
          "height": 377
        },
        "id": "jqQHSWpu5FXv",
        "outputId": "dfc094cc-615f-44b2-b346-9aefa1698c63"
      },
      "source": [
        "import io\n",
        "import pandas as pd\n",
        "dataset = pd.read_csv(io.BytesIO(uploaded['Crash_Details_Table.csv']))\n",
        "dataset.head(10)"
      ],
      "execution_count": 2,
      "outputs": [
        {
          "output_type": "stream",
          "text": [
            "/usr/local/lib/python3.7/dist-packages/IPython/core/interactiveshell.py:2718: DtypeWarning: Columns (2) have mixed types.Specify dtype option on import or set low_memory=False.\n",
            "  interactivity=interactivity, compiler=compiler, result=result)\n"
          ],
          "name": "stderr"
        },
        {
          "output_type": "execute_result",
          "data": {
            "text/html": [
              "<div>\n",
              "<style scoped>\n",
              "    .dataframe tbody tr th:only-of-type {\n",
              "        vertical-align: middle;\n",
              "    }\n",
              "\n",
              "    .dataframe tbody tr th {\n",
              "        vertical-align: top;\n",
              "    }\n",
              "\n",
              "    .dataframe thead th {\n",
              "        text-align: right;\n",
              "    }\n",
              "</style>\n",
              "<table border=\"1\" class=\"dataframe\">\n",
              "  <thead>\n",
              "    <tr style=\"text-align: right;\">\n",
              "      <th></th>\n",
              "      <th>OBJECTID</th>\n",
              "      <th>CRIMEID</th>\n",
              "      <th>CCN</th>\n",
              "      <th>PERSONID</th>\n",
              "      <th>PERSONTYPE</th>\n",
              "      <th>AGE</th>\n",
              "      <th>FATAL</th>\n",
              "      <th>MAJORINJURY</th>\n",
              "      <th>MINORINJURY</th>\n",
              "      <th>VEHICLEID</th>\n",
              "      <th>INVEHICLETYPE</th>\n",
              "      <th>TICKETISSUED</th>\n",
              "      <th>LICENSEPLATESTATE</th>\n",
              "      <th>IMPAIRED</th>\n",
              "      <th>SPEEDING</th>\n",
              "    </tr>\n",
              "  </thead>\n",
              "  <tbody>\n",
              "    <tr>\n",
              "      <th>0</th>\n",
              "      <td>438194351</td>\n",
              "      <td>26872544</td>\n",
              "      <td>16034312</td>\n",
              "      <td>84628234</td>\n",
              "      <td>Passenger</td>\n",
              "      <td>31.0</td>\n",
              "      <td>N</td>\n",
              "      <td>N</td>\n",
              "      <td>N</td>\n",
              "      <td>2275009</td>\n",
              "      <td>Passenger Car/automobile</td>\n",
              "      <td>N</td>\n",
              "      <td>VA</td>\n",
              "      <td>Y</td>\n",
              "      <td>N</td>\n",
              "    </tr>\n",
              "    <tr>\n",
              "      <th>1</th>\n",
              "      <td>438194352</td>\n",
              "      <td>26872544</td>\n",
              "      <td>16034312</td>\n",
              "      <td>84833902</td>\n",
              "      <td>Passenger</td>\n",
              "      <td>31.0</td>\n",
              "      <td>N</td>\n",
              "      <td>N</td>\n",
              "      <td>N</td>\n",
              "      <td>2275009</td>\n",
              "      <td>Passenger Car/automobile</td>\n",
              "      <td>N</td>\n",
              "      <td>VA</td>\n",
              "      <td>Y</td>\n",
              "      <td>N</td>\n",
              "    </tr>\n",
              "    <tr>\n",
              "      <th>2</th>\n",
              "      <td>438194353</td>\n",
              "      <td>26872544</td>\n",
              "      <td>16034312</td>\n",
              "      <td>84938064</td>\n",
              "      <td>Driver</td>\n",
              "      <td>NaN</td>\n",
              "      <td>N</td>\n",
              "      <td>N</td>\n",
              "      <td>N</td>\n",
              "      <td>2275007</td>\n",
              "      <td>Passenger Car/automobile</td>\n",
              "      <td>N</td>\n",
              "      <td>None</td>\n",
              "      <td>N</td>\n",
              "      <td>N</td>\n",
              "    </tr>\n",
              "    <tr>\n",
              "      <th>3</th>\n",
              "      <td>438194354</td>\n",
              "      <td>26872544</td>\n",
              "      <td>16034312</td>\n",
              "      <td>84790164</td>\n",
              "      <td>Driver</td>\n",
              "      <td>31.0</td>\n",
              "      <td>N</td>\n",
              "      <td>N</td>\n",
              "      <td>N</td>\n",
              "      <td>2275009</td>\n",
              "      <td>Passenger Car/automobile</td>\n",
              "      <td>N</td>\n",
              "      <td>VA</td>\n",
              "      <td>N</td>\n",
              "      <td>N</td>\n",
              "    </tr>\n",
              "    <tr>\n",
              "      <th>4</th>\n",
              "      <td>438194355</td>\n",
              "      <td>26872544</td>\n",
              "      <td>16034312</td>\n",
              "      <td>84953497</td>\n",
              "      <td>Passenger</td>\n",
              "      <td>47.0</td>\n",
              "      <td>N</td>\n",
              "      <td>N</td>\n",
              "      <td>Y</td>\n",
              "      <td>2275008</td>\n",
              "      <td>Passenger Car/automobile</td>\n",
              "      <td>N</td>\n",
              "      <td>VA</td>\n",
              "      <td>Y</td>\n",
              "      <td>N</td>\n",
              "    </tr>\n",
              "    <tr>\n",
              "      <th>5</th>\n",
              "      <td>438194356</td>\n",
              "      <td>26872544</td>\n",
              "      <td>16034312</td>\n",
              "      <td>85038077</td>\n",
              "      <td>Driver</td>\n",
              "      <td>63.0</td>\n",
              "      <td>N</td>\n",
              "      <td>N</td>\n",
              "      <td>N</td>\n",
              "      <td>2275008</td>\n",
              "      <td>Passenger Car/automobile</td>\n",
              "      <td>N</td>\n",
              "      <td>VA</td>\n",
              "      <td>N</td>\n",
              "      <td>N</td>\n",
              "    </tr>\n",
              "    <tr>\n",
              "      <th>6</th>\n",
              "      <td>438194357</td>\n",
              "      <td>27308896</td>\n",
              "      <td>17080828</td>\n",
              "      <td>85710507</td>\n",
              "      <td>Driver</td>\n",
              "      <td>42.0</td>\n",
              "      <td>N</td>\n",
              "      <td>N</td>\n",
              "      <td>N</td>\n",
              "      <td>3150162</td>\n",
              "      <td>Passenger Car/automobile</td>\n",
              "      <td>N</td>\n",
              "      <td>VA</td>\n",
              "      <td>Y</td>\n",
              "      <td>N</td>\n",
              "    </tr>\n",
              "    <tr>\n",
              "      <th>7</th>\n",
              "      <td>438194358</td>\n",
              "      <td>26872547</td>\n",
              "      <td>16034343</td>\n",
              "      <td>84602464</td>\n",
              "      <td>Passenger</td>\n",
              "      <td>23.0</td>\n",
              "      <td>N</td>\n",
              "      <td>N</td>\n",
              "      <td>N</td>\n",
              "      <td>2275002</td>\n",
              "      <td>Passenger Car/automobile</td>\n",
              "      <td>N</td>\n",
              "      <td>NY</td>\n",
              "      <td>N</td>\n",
              "      <td>N</td>\n",
              "    </tr>\n",
              "    <tr>\n",
              "      <th>8</th>\n",
              "      <td>438194359</td>\n",
              "      <td>26872547</td>\n",
              "      <td>16034343</td>\n",
              "      <td>84740727</td>\n",
              "      <td>Driver</td>\n",
              "      <td>25.0</td>\n",
              "      <td>N</td>\n",
              "      <td>N</td>\n",
              "      <td>N</td>\n",
              "      <td>2275002</td>\n",
              "      <td>Passenger Car/automobile</td>\n",
              "      <td>N</td>\n",
              "      <td>NY</td>\n",
              "      <td>N</td>\n",
              "      <td>N</td>\n",
              "    </tr>\n",
              "    <tr>\n",
              "      <th>9</th>\n",
              "      <td>438194360</td>\n",
              "      <td>26872547</td>\n",
              "      <td>16034343</td>\n",
              "      <td>84924532</td>\n",
              "      <td>Driver</td>\n",
              "      <td>28.0</td>\n",
              "      <td>N</td>\n",
              "      <td>N</td>\n",
              "      <td>N</td>\n",
              "      <td>2275003</td>\n",
              "      <td>Passenger Car/automobile</td>\n",
              "      <td>N</td>\n",
              "      <td>VA</td>\n",
              "      <td>N</td>\n",
              "      <td>N</td>\n",
              "    </tr>\n",
              "  </tbody>\n",
              "</table>\n",
              "</div>"
            ],
            "text/plain": [
              "    OBJECTID   CRIMEID       CCN  ...  LICENSEPLATESTATE IMPAIRED  SPEEDING\n",
              "0  438194351  26872544  16034312  ...                 VA        Y         N\n",
              "1  438194352  26872544  16034312  ...                 VA        Y         N\n",
              "2  438194353  26872544  16034312  ...               None        N         N\n",
              "3  438194354  26872544  16034312  ...                 VA        N         N\n",
              "4  438194355  26872544  16034312  ...                 VA        Y         N\n",
              "5  438194356  26872544  16034312  ...                 VA        N         N\n",
              "6  438194357  27308896  17080828  ...                 VA        Y         N\n",
              "7  438194358  26872547  16034343  ...                 NY        N         N\n",
              "8  438194359  26872547  16034343  ...                 NY        N         N\n",
              "9  438194360  26872547  16034343  ...                 VA        N         N\n",
              "\n",
              "[10 rows x 15 columns]"
            ]
          },
          "metadata": {
            "tags": []
          },
          "execution_count": 2
        }
      ]
    },
    {
      "cell_type": "markdown",
      "metadata": {
        "id": "Jx2eObboKv4P"
      },
      "source": [
        "Try to get little bit more information about the dataset:"
      ]
    },
    {
      "cell_type": "code",
      "metadata": {
        "id": "1HmubmYbH0YI",
        "colab": {
          "base_uri": "https://localhost:8080/"
        },
        "outputId": "b2312082-1d19-463a-b91c-aaf7de547ecc"
      },
      "source": [
        "dataset.info()"
      ],
      "execution_count": 3,
      "outputs": [
        {
          "output_type": "stream",
          "text": [
            "<class 'pandas.core.frame.DataFrame'>\n",
            "RangeIndex: 596381 entries, 0 to 596380\n",
            "Data columns (total 15 columns):\n",
            " #   Column             Non-Null Count   Dtype  \n",
            "---  ------             --------------   -----  \n",
            " 0   OBJECTID           596381 non-null  int64  \n",
            " 1   CRIMEID            596381 non-null  int64  \n",
            " 2   CCN                596381 non-null  object \n",
            " 3   PERSONID           596381 non-null  int64  \n",
            " 4   PERSONTYPE         596381 non-null  object \n",
            " 5   AGE                426744 non-null  float64\n",
            " 6   FATAL              596381 non-null  object \n",
            " 7   MAJORINJURY        596381 non-null  object \n",
            " 8   MINORINJURY        596381 non-null  object \n",
            " 9   VEHICLEID          596381 non-null  object \n",
            " 10  INVEHICLETYPE      596381 non-null  object \n",
            " 11  TICKETISSUED       596381 non-null  object \n",
            " 12  LICENSEPLATESTATE  596381 non-null  object \n",
            " 13  IMPAIRED           596381 non-null  object \n",
            " 14  SPEEDING           596381 non-null  object \n",
            "dtypes: float64(1), int64(3), object(11)\n",
            "memory usage: 68.3+ MB\n"
          ],
          "name": "stdout"
        }
      ]
    },
    {
      "cell_type": "markdown",
      "metadata": {
        "id": "A9q_nzJQK_4E"
      },
      "source": [
        "The DataFrame contains 596381 entries in total, with 14 features. Of those 14 features, 13 have non-null values for every entry, and 1 doesn't: 'Age', which has only 426744 non-null entries (means missing values)."
      ]
    },
    {
      "cell_type": "markdown",
      "metadata": {
        "id": "MkbQQwP7xVh2"
      },
      "source": [
        "**Dropping columns which are not useful:**"
      ]
    },
    {
      "cell_type": "code",
      "metadata": {
        "id": "acHXdakVxed4"
      },
      "source": [
        "cols=['OBJECTID','CCN','VEHICLEID']\n",
        "dataclean = dataset.drop(cols, axis=1)"
      ],
      "execution_count": 4,
      "outputs": []
    },
    {
      "cell_type": "code",
      "metadata": {
        "colab": {
          "base_uri": "https://localhost:8080/"
        },
        "id": "7tXHV3ViytBV",
        "outputId": "3c5a8b92-9955-4670-9526-c47f1d669fbd"
      },
      "source": [
        "dataclean.info()"
      ],
      "execution_count": 5,
      "outputs": [
        {
          "output_type": "stream",
          "text": [
            "<class 'pandas.core.frame.DataFrame'>\n",
            "RangeIndex: 596381 entries, 0 to 596380\n",
            "Data columns (total 12 columns):\n",
            " #   Column             Non-Null Count   Dtype  \n",
            "---  ------             --------------   -----  \n",
            " 0   CRIMEID            596381 non-null  int64  \n",
            " 1   PERSONID           596381 non-null  int64  \n",
            " 2   PERSONTYPE         596381 non-null  object \n",
            " 3   AGE                426744 non-null  float64\n",
            " 4   FATAL              596381 non-null  object \n",
            " 5   MAJORINJURY        596381 non-null  object \n",
            " 6   MINORINJURY        596381 non-null  object \n",
            " 7   INVEHICLETYPE      596381 non-null  object \n",
            " 8   TICKETISSUED       596381 non-null  object \n",
            " 9   LICENSEPLATESTATE  596381 non-null  object \n",
            " 10  IMPAIRED           596381 non-null  object \n",
            " 11  SPEEDING           596381 non-null  object \n",
            "dtypes: float64(1), int64(2), object(9)\n",
            "memory usage: 54.6+ MB\n"
          ],
          "name": "stdout"
        }
      ]
    },
    {
      "cell_type": "markdown",
      "metadata": {
        "id": "72zW1J3H1Llf"
      },
      "source": [
        "**Handling missing values:**\n",
        "Age has lots of missing values. Lets compute a median or interpolate() all the ages and fill those missing age values. "
      ]
    },
    {
      "cell_type": "code",
      "metadata": {
        "id": "b44YRLdM1ntl"
      },
      "source": [
        "dataclean['AGE'] = dataclean['AGE'].interpolate()"
      ],
      "execution_count": 6,
      "outputs": []
    },
    {
      "cell_type": "code",
      "metadata": {
        "colab": {
          "base_uri": "https://localhost:8080/"
        },
        "id": "9-r2JIYG1yK5",
        "outputId": "d7b31232-35e2-45d9-ead4-0bfcee3111ff"
      },
      "source": [
        "dataclean.info()"
      ],
      "execution_count": 7,
      "outputs": [
        {
          "output_type": "stream",
          "text": [
            "<class 'pandas.core.frame.DataFrame'>\n",
            "RangeIndex: 596381 entries, 0 to 596380\n",
            "Data columns (total 12 columns):\n",
            " #   Column             Non-Null Count   Dtype  \n",
            "---  ------             --------------   -----  \n",
            " 0   CRIMEID            596381 non-null  int64  \n",
            " 1   PERSONID           596381 non-null  int64  \n",
            " 2   PERSONTYPE         596381 non-null  object \n",
            " 3   AGE                596381 non-null  float64\n",
            " 4   FATAL              596381 non-null  object \n",
            " 5   MAJORINJURY        596381 non-null  object \n",
            " 6   MINORINJURY        596381 non-null  object \n",
            " 7   INVEHICLETYPE      596381 non-null  object \n",
            " 8   TICKETISSUED       596381 non-null  object \n",
            " 9   LICENSEPLATESTATE  596381 non-null  object \n",
            " 10  IMPAIRED           596381 non-null  object \n",
            " 11  SPEEDING           596381 non-null  object \n",
            "dtypes: float64(1), int64(2), object(9)\n",
            "memory usage: 54.6+ MB\n"
          ],
          "name": "stdout"
        }
      ]
    },
    {
      "cell_type": "markdown",
      "metadata": {
        "id": "wzypACyE17Zw"
      },
      "source": [
        "We can see that Age has been interpolated with new imputed values. "
      ]
    },
    {
      "cell_type": "markdown",
      "metadata": {
        "id": "BSuE8yUgBEGT"
      },
      "source": [
        "# **EDA:**\n",
        "\n",
        "Let's check are there any missing values in other columns"
      ]
    },
    {
      "cell_type": "code",
      "metadata": {
        "colab": {
          "base_uri": "https://localhost:8080/"
        },
        "id": "uZ6AL8fm16Ov",
        "outputId": "d4e528bd-1fda-4041-b2d9-8b5d70df9b39"
      },
      "source": [
        "dataclean.isnull().sum()"
      ],
      "execution_count": 8,
      "outputs": [
        {
          "output_type": "execute_result",
          "data": {
            "text/plain": [
              "CRIMEID              0\n",
              "PERSONID             0\n",
              "PERSONTYPE           0\n",
              "AGE                  0\n",
              "FATAL                0\n",
              "MAJORINJURY          0\n",
              "MINORINJURY          0\n",
              "INVEHICLETYPE        0\n",
              "TICKETISSUED         0\n",
              "LICENSEPLATESTATE    0\n",
              "IMPAIRED             0\n",
              "SPEEDING             0\n",
              "dtype: int64"
            ]
          },
          "metadata": {
            "tags": []
          },
          "execution_count": 8
        }
      ]
    },
    {
      "cell_type": "markdown",
      "metadata": {
        "id": "gLo1hnVjjzlE"
      },
      "source": [
        "Let's try to understand the number of levels in categorical variables"
      ]
    },
    {
      "cell_type": "code",
      "metadata": {
        "colab": {
          "base_uri": "https://localhost:8080/"
        },
        "id": "q3zC_asZ6KC3",
        "outputId": "c65bccc2-9ded-4ff4-f3a9-e66cb996eff7"
      },
      "source": [
        "dataclean['INVEHICLETYPE'].value_counts()"
      ],
      "execution_count": 9,
      "outputs": [
        {
          "output_type": "execute_result",
          "data": {
            "text/plain": [
              "Passenger Car/automobile                      401933\n",
              "Other Vehicle                                  50871\n",
              "Suv (sport Utility Vehicle)                    34122\n",
              "Passenger Van                                  19297\n",
              "None                                           17544\n",
              "Bus                                            16900\n",
              "Firearms                                       14225\n",
              "Pickup Truck                                   12418\n",
              "Large/heavy Truck                              10231\n",
              "Cargo Van                                       5015\n",
              "Drugs/ Narcotics                                4054\n",
              "Other Small/light Truck                         3574\n",
              "Motor Cycle                                     2791\n",
              "Moped/scooter                                   1371\n",
              "Construction/industrial Equipment                767\n",
              "Motorhome/camper/rv (recreational Vehicle)       475\n",
              "Trailer                                          427\n",
              "Farm Equipment                                   181\n",
              "Atv (all Terrain Vehicle)                        170\n",
              "Watercraft/boat                                    8\n",
              "Snow Mobile                                        4\n",
              "Aircraft                                           3\n",
              "Name: INVEHICLETYPE, dtype: int64"
            ]
          },
          "metadata": {
            "tags": []
          },
          "execution_count": 9
        }
      ]
    },
    {
      "cell_type": "code",
      "metadata": {
        "colab": {
          "base_uri": "https://localhost:8080/"
        },
        "id": "BZAJ7J-R68M3",
        "outputId": "018fc524-fb2d-43f8-8528-7d3731877e98"
      },
      "source": [
        "dataclean['PERSONTYPE'].value_counts()"
      ],
      "execution_count": 10,
      "outputs": [
        {
          "output_type": "execute_result",
          "data": {
            "text/plain": [
              "Driver        459670\n",
              "Passenger     118813\n",
              "Pedestrian     13758\n",
              "Bicyclist       4140\n",
              "Name: PERSONTYPE, dtype: int64"
            ]
          },
          "metadata": {
            "tags": []
          },
          "execution_count": 10
        }
      ]
    },
    {
      "cell_type": "code",
      "metadata": {
        "colab": {
          "base_uri": "https://localhost:8080/"
        },
        "id": "_M944cfJ7Ftx",
        "outputId": "14cb822b-4b15-4fb3-9d78-8fb82fa3d9c8"
      },
      "source": [
        "dataclean['LICENSEPLATESTATE'].value_counts()"
      ],
      "execution_count": 11,
      "outputs": [
        {
          "output_type": "execute_result",
          "data": {
            "text/plain": [
              "DC       224261\n",
              "MD       174460\n",
              "VA        76945\n",
              " None     67689\n",
              "Un         9344\n",
              "PA         4340\n",
              "NC         3416\n",
              "FL         3329\n",
              "NY         3246\n",
              "NJ         3020\n",
              "US         2187\n",
              "TX         1966\n",
              "Ot         1741\n",
              "IL         1694\n",
              "GA         1651\n",
              "MA         1240\n",
              "AZ         1238\n",
              "Di         1175\n",
              "OH         1153\n",
              "DE         1149\n",
              "IN         1035\n",
              "SC          996\n",
              "MI          870\n",
              "TN          855\n",
              "CA          822\n",
              "WV          779\n",
              "CT          654\n",
              "OK          527\n",
              "AL          433\n",
              "WA          393\n",
              "ME          337\n",
              "LA          304\n",
              "KY          280\n",
              "MO          255\n",
              "WI          249\n",
              "MN          201\n",
              "MS          180\n",
              "VT          173\n",
              "RI          153\n",
              "Ou          151\n",
              "CO          146\n",
              "NH          143\n",
              "IA          132\n",
              "AR          127\n",
              "OR          127\n",
              "WY          109\n",
              "KS          100\n",
              "NE           87\n",
              "NV           76\n",
              "UT           72\n",
              "NM           71\n",
              "AK           60\n",
              "Vi           58\n",
              "MT           51\n",
              "ND           41\n",
              "ID           39\n",
              "SD           30\n",
              "HI           19\n",
              "Pu            1\n",
              "Am            1\n",
              "Name: LICENSEPLATESTATE, dtype: int64"
            ]
          },
          "metadata": {
            "tags": []
          },
          "execution_count": 11
        }
      ]
    },
    {
      "cell_type": "markdown",
      "metadata": {
        "id": "bcwUP1MH4E_Y"
      },
      "source": [
        "Let's convert objects to numeric values using Label encoders"
      ]
    },
    {
      "cell_type": "code",
      "metadata": {
        "colab": {
          "base_uri": "https://localhost:8080/",
          "height": 195
        },
        "id": "8eiAluQ04Jtt",
        "outputId": "0f133445-8bfc-4aa5-ea56-227fe2cee4f8"
      },
      "source": [
        "from sklearn.preprocessing import LabelEncoder\n",
        "Le =LabelEncoder()\n",
        "dataclean.PERSONTYPE=Le.fit_transform(dataclean.PERSONTYPE)\n",
        "dataclean.FATAL=Le.fit_transform(dataclean.FATAL)\n",
        "dataclean.MINORINJURY=Le.fit_transform(dataclean.MINORINJURY)\n",
        "dataclean.MAJORINJURY=Le.fit_transform(dataclean.MAJORINJURY)\n",
        "dataclean.INVEHICLETYPE=Le.fit_transform(dataclean.INVEHICLETYPE)\n",
        "dataclean.TICKETISSUED=Le.fit_transform(dataclean.TICKETISSUED)\n",
        "dataclean.LICENSEPLATESTATE=Le.fit_transform(dataclean.LICENSEPLATESTATE)\n",
        "dataclean.IMPAIRED=Le.fit_transform(dataclean.IMPAIRED)\n",
        "dataclean.SPEEDING=Le.fit_transform(dataclean.SPEEDING)\n",
        "dataclean.head()"
      ],
      "execution_count": 12,
      "outputs": [
        {
          "output_type": "execute_result",
          "data": {
            "text/html": [
              "<div>\n",
              "<style scoped>\n",
              "    .dataframe tbody tr th:only-of-type {\n",
              "        vertical-align: middle;\n",
              "    }\n",
              "\n",
              "    .dataframe tbody tr th {\n",
              "        vertical-align: top;\n",
              "    }\n",
              "\n",
              "    .dataframe thead th {\n",
              "        text-align: right;\n",
              "    }\n",
              "</style>\n",
              "<table border=\"1\" class=\"dataframe\">\n",
              "  <thead>\n",
              "    <tr style=\"text-align: right;\">\n",
              "      <th></th>\n",
              "      <th>CRIMEID</th>\n",
              "      <th>PERSONID</th>\n",
              "      <th>PERSONTYPE</th>\n",
              "      <th>AGE</th>\n",
              "      <th>FATAL</th>\n",
              "      <th>MAJORINJURY</th>\n",
              "      <th>MINORINJURY</th>\n",
              "      <th>INVEHICLETYPE</th>\n",
              "      <th>TICKETISSUED</th>\n",
              "      <th>LICENSEPLATESTATE</th>\n",
              "      <th>IMPAIRED</th>\n",
              "      <th>SPEEDING</th>\n",
              "    </tr>\n",
              "  </thead>\n",
              "  <tbody>\n",
              "    <tr>\n",
              "      <th>0</th>\n",
              "      <td>26872544</td>\n",
              "      <td>84628234</td>\n",
              "      <td>2</td>\n",
              "      <td>31.0</td>\n",
              "      <td>0</td>\n",
              "      <td>0</td>\n",
              "      <td>0</td>\n",
              "      <td>15</td>\n",
              "      <td>0</td>\n",
              "      <td>53</td>\n",
              "      <td>1</td>\n",
              "      <td>0</td>\n",
              "    </tr>\n",
              "    <tr>\n",
              "      <th>1</th>\n",
              "      <td>26872544</td>\n",
              "      <td>84833902</td>\n",
              "      <td>2</td>\n",
              "      <td>31.0</td>\n",
              "      <td>0</td>\n",
              "      <td>0</td>\n",
              "      <td>0</td>\n",
              "      <td>15</td>\n",
              "      <td>0</td>\n",
              "      <td>53</td>\n",
              "      <td>1</td>\n",
              "      <td>0</td>\n",
              "    </tr>\n",
              "    <tr>\n",
              "      <th>2</th>\n",
              "      <td>26872544</td>\n",
              "      <td>84938064</td>\n",
              "      <td>1</td>\n",
              "      <td>31.0</td>\n",
              "      <td>0</td>\n",
              "      <td>0</td>\n",
              "      <td>0</td>\n",
              "      <td>15</td>\n",
              "      <td>0</td>\n",
              "      <td>0</td>\n",
              "      <td>0</td>\n",
              "      <td>0</td>\n",
              "    </tr>\n",
              "    <tr>\n",
              "      <th>3</th>\n",
              "      <td>26872544</td>\n",
              "      <td>84790164</td>\n",
              "      <td>1</td>\n",
              "      <td>31.0</td>\n",
              "      <td>0</td>\n",
              "      <td>0</td>\n",
              "      <td>0</td>\n",
              "      <td>15</td>\n",
              "      <td>0</td>\n",
              "      <td>53</td>\n",
              "      <td>0</td>\n",
              "      <td>0</td>\n",
              "    </tr>\n",
              "    <tr>\n",
              "      <th>4</th>\n",
              "      <td>26872544</td>\n",
              "      <td>84953497</td>\n",
              "      <td>2</td>\n",
              "      <td>47.0</td>\n",
              "      <td>0</td>\n",
              "      <td>0</td>\n",
              "      <td>1</td>\n",
              "      <td>15</td>\n",
              "      <td>0</td>\n",
              "      <td>53</td>\n",
              "      <td>1</td>\n",
              "      <td>0</td>\n",
              "    </tr>\n",
              "  </tbody>\n",
              "</table>\n",
              "</div>"
            ],
            "text/plain": [
              "    CRIMEID  PERSONID  PERSONTYPE  ...  LICENSEPLATESTATE  IMPAIRED  SPEEDING\n",
              "0  26872544  84628234           2  ...                 53         1         0\n",
              "1  26872544  84833902           2  ...                 53         1         0\n",
              "2  26872544  84938064           1  ...                  0         0         0\n",
              "3  26872544  84790164           1  ...                 53         0         0\n",
              "4  26872544  84953497           2  ...                 53         1         0\n",
              "\n",
              "[5 rows x 12 columns]"
            ]
          },
          "metadata": {
            "tags": []
          },
          "execution_count": 12
        }
      ]
    },
    {
      "cell_type": "markdown",
      "metadata": {
        "id": "W7sqw1m4BjN-"
      },
      "source": [
        "Let's understand the distribution of variables in the forthcoming code shells."
      ]
    },
    {
      "cell_type": "code",
      "metadata": {
        "id": "uycCyv97BncQ"
      },
      "source": [
        "import matplotlib.pyplot as plt\n",
        "import seaborn as sns\n",
        "\n",
        "# To ignore warnings\n",
        "import warnings\n",
        "warnings.filterwarnings('ignore')"
      ],
      "execution_count": 13,
      "outputs": []
    },
    {
      "cell_type": "markdown",
      "metadata": {
        "id": "c_oMPoMwDf1r"
      },
      "source": [
        "Let's see how each features are related with others using corr() function."
      ]
    },
    {
      "cell_type": "code",
      "metadata": {
        "colab": {
          "base_uri": "https://localhost:8080/",
          "height": 402
        },
        "id": "PXcxEqjXDmJd",
        "outputId": "1ad806d2-cafb-416d-cd9e-92084896df99"
      },
      "source": [
        "dataclean.corr()"
      ],
      "execution_count": 14,
      "outputs": [
        {
          "output_type": "execute_result",
          "data": {
            "text/html": [
              "<div>\n",
              "<style scoped>\n",
              "    .dataframe tbody tr th:only-of-type {\n",
              "        vertical-align: middle;\n",
              "    }\n",
              "\n",
              "    .dataframe tbody tr th {\n",
              "        vertical-align: top;\n",
              "    }\n",
              "\n",
              "    .dataframe thead th {\n",
              "        text-align: right;\n",
              "    }\n",
              "</style>\n",
              "<table border=\"1\" class=\"dataframe\">\n",
              "  <thead>\n",
              "    <tr style=\"text-align: right;\">\n",
              "      <th></th>\n",
              "      <th>CRIMEID</th>\n",
              "      <th>PERSONID</th>\n",
              "      <th>PERSONTYPE</th>\n",
              "      <th>AGE</th>\n",
              "      <th>FATAL</th>\n",
              "      <th>MAJORINJURY</th>\n",
              "      <th>MINORINJURY</th>\n",
              "      <th>INVEHICLETYPE</th>\n",
              "      <th>TICKETISSUED</th>\n",
              "      <th>LICENSEPLATESTATE</th>\n",
              "      <th>IMPAIRED</th>\n",
              "      <th>SPEEDING</th>\n",
              "    </tr>\n",
              "  </thead>\n",
              "  <tbody>\n",
              "    <tr>\n",
              "      <th>CRIMEID</th>\n",
              "      <td>1.000000</td>\n",
              "      <td>0.242591</td>\n",
              "      <td>-0.053551</td>\n",
              "      <td>-0.083951</td>\n",
              "      <td>-0.006129</td>\n",
              "      <td>-0.118922</td>\n",
              "      <td>0.065327</td>\n",
              "      <td>-0.022745</td>\n",
              "      <td>0.298251</td>\n",
              "      <td>0.017190</td>\n",
              "      <td>0.069261</td>\n",
              "      <td>-0.036133</td>\n",
              "    </tr>\n",
              "    <tr>\n",
              "      <th>PERSONID</th>\n",
              "      <td>0.242591</td>\n",
              "      <td>1.000000</td>\n",
              "      <td>-0.402586</td>\n",
              "      <td>-0.033377</td>\n",
              "      <td>-0.022917</td>\n",
              "      <td>-0.207978</td>\n",
              "      <td>-0.100862</td>\n",
              "      <td>0.072496</td>\n",
              "      <td>0.090526</td>\n",
              "      <td>0.138023</td>\n",
              "      <td>0.022064</td>\n",
              "      <td>0.003745</td>\n",
              "    </tr>\n",
              "    <tr>\n",
              "      <th>PERSONTYPE</th>\n",
              "      <td>-0.053551</td>\n",
              "      <td>-0.402586</td>\n",
              "      <td>1.000000</td>\n",
              "      <td>-0.062133</td>\n",
              "      <td>0.022272</td>\n",
              "      <td>0.125422</td>\n",
              "      <td>0.169517</td>\n",
              "      <td>-0.065320</td>\n",
              "      <td>-0.208258</td>\n",
              "      <td>-0.062990</td>\n",
              "      <td>-0.005469</td>\n",
              "      <td>-0.042788</td>\n",
              "    </tr>\n",
              "    <tr>\n",
              "      <th>AGE</th>\n",
              "      <td>-0.083951</td>\n",
              "      <td>-0.033377</td>\n",
              "      <td>-0.062133</td>\n",
              "      <td>1.000000</td>\n",
              "      <td>0.002359</td>\n",
              "      <td>0.006872</td>\n",
              "      <td>-0.011622</td>\n",
              "      <td>-0.032366</td>\n",
              "      <td>0.016512</td>\n",
              "      <td>-0.027554</td>\n",
              "      <td>-0.007861</td>\n",
              "      <td>-0.025862</td>\n",
              "    </tr>\n",
              "    <tr>\n",
              "      <th>FATAL</th>\n",
              "      <td>-0.006129</td>\n",
              "      <td>-0.022917</td>\n",
              "      <td>0.022272</td>\n",
              "      <td>0.002359</td>\n",
              "      <td>1.000000</td>\n",
              "      <td>-0.005100</td>\n",
              "      <td>-0.009335</td>\n",
              "      <td>-0.006566</td>\n",
              "      <td>-0.004502</td>\n",
              "      <td>-0.009209</td>\n",
              "      <td>0.001912</td>\n",
              "      <td>0.031165</td>\n",
              "    </tr>\n",
              "    <tr>\n",
              "      <th>MAJORINJURY</th>\n",
              "      <td>-0.118922</td>\n",
              "      <td>-0.207978</td>\n",
              "      <td>0.125422</td>\n",
              "      <td>0.006872</td>\n",
              "      <td>-0.005100</td>\n",
              "      <td>1.000000</td>\n",
              "      <td>-0.068037</td>\n",
              "      <td>-0.017446</td>\n",
              "      <td>-0.070559</td>\n",
              "      <td>-0.049207</td>\n",
              "      <td>-0.005605</td>\n",
              "      <td>0.017234</td>\n",
              "    </tr>\n",
              "    <tr>\n",
              "      <th>MINORINJURY</th>\n",
              "      <td>0.065327</td>\n",
              "      <td>-0.100862</td>\n",
              "      <td>0.169517</td>\n",
              "      <td>-0.011622</td>\n",
              "      <td>-0.009335</td>\n",
              "      <td>-0.068037</td>\n",
              "      <td>1.000000</td>\n",
              "      <td>0.002138</td>\n",
              "      <td>-0.017487</td>\n",
              "      <td>-0.051972</td>\n",
              "      <td>0.011959</td>\n",
              "      <td>0.004211</td>\n",
              "    </tr>\n",
              "    <tr>\n",
              "      <th>INVEHICLETYPE</th>\n",
              "      <td>-0.022745</td>\n",
              "      <td>0.072496</td>\n",
              "      <td>-0.065320</td>\n",
              "      <td>-0.032366</td>\n",
              "      <td>-0.006566</td>\n",
              "      <td>-0.017446</td>\n",
              "      <td>0.002138</td>\n",
              "      <td>1.000000</td>\n",
              "      <td>0.003969</td>\n",
              "      <td>0.119362</td>\n",
              "      <td>0.019970</td>\n",
              "      <td>0.016975</td>\n",
              "    </tr>\n",
              "    <tr>\n",
              "      <th>TICKETISSUED</th>\n",
              "      <td>0.298251</td>\n",
              "      <td>0.090526</td>\n",
              "      <td>-0.208258</td>\n",
              "      <td>0.016512</td>\n",
              "      <td>-0.004502</td>\n",
              "      <td>-0.070559</td>\n",
              "      <td>-0.017487</td>\n",
              "      <td>0.003969</td>\n",
              "      <td>1.000000</td>\n",
              "      <td>0.062479</td>\n",
              "      <td>0.080868</td>\n",
              "      <td>-0.007491</td>\n",
              "    </tr>\n",
              "    <tr>\n",
              "      <th>LICENSEPLATESTATE</th>\n",
              "      <td>0.017190</td>\n",
              "      <td>0.138023</td>\n",
              "      <td>-0.062990</td>\n",
              "      <td>-0.027554</td>\n",
              "      <td>-0.009209</td>\n",
              "      <td>-0.049207</td>\n",
              "      <td>-0.051972</td>\n",
              "      <td>0.119362</td>\n",
              "      <td>0.062479</td>\n",
              "      <td>1.000000</td>\n",
              "      <td>0.013731</td>\n",
              "      <td>0.003965</td>\n",
              "    </tr>\n",
              "    <tr>\n",
              "      <th>IMPAIRED</th>\n",
              "      <td>0.069261</td>\n",
              "      <td>0.022064</td>\n",
              "      <td>-0.005469</td>\n",
              "      <td>-0.007861</td>\n",
              "      <td>0.001912</td>\n",
              "      <td>-0.005605</td>\n",
              "      <td>0.011959</td>\n",
              "      <td>0.019970</td>\n",
              "      <td>0.080868</td>\n",
              "      <td>0.013731</td>\n",
              "      <td>1.000000</td>\n",
              "      <td>0.018760</td>\n",
              "    </tr>\n",
              "    <tr>\n",
              "      <th>SPEEDING</th>\n",
              "      <td>-0.036133</td>\n",
              "      <td>0.003745</td>\n",
              "      <td>-0.042788</td>\n",
              "      <td>-0.025862</td>\n",
              "      <td>0.031165</td>\n",
              "      <td>0.017234</td>\n",
              "      <td>0.004211</td>\n",
              "      <td>0.016975</td>\n",
              "      <td>-0.007491</td>\n",
              "      <td>0.003965</td>\n",
              "      <td>0.018760</td>\n",
              "      <td>1.000000</td>\n",
              "    </tr>\n",
              "  </tbody>\n",
              "</table>\n",
              "</div>"
            ],
            "text/plain": [
              "                    CRIMEID  PERSONID  ...  IMPAIRED  SPEEDING\n",
              "CRIMEID            1.000000  0.242591  ...  0.069261 -0.036133\n",
              "PERSONID           0.242591  1.000000  ...  0.022064  0.003745\n",
              "PERSONTYPE        -0.053551 -0.402586  ... -0.005469 -0.042788\n",
              "AGE               -0.083951 -0.033377  ... -0.007861 -0.025862\n",
              "FATAL             -0.006129 -0.022917  ...  0.001912  0.031165\n",
              "MAJORINJURY       -0.118922 -0.207978  ... -0.005605  0.017234\n",
              "MINORINJURY        0.065327 -0.100862  ...  0.011959  0.004211\n",
              "INVEHICLETYPE     -0.022745  0.072496  ...  0.019970  0.016975\n",
              "TICKETISSUED       0.298251  0.090526  ...  0.080868 -0.007491\n",
              "LICENSEPLATESTATE  0.017190  0.138023  ...  0.013731  0.003965\n",
              "IMPAIRED           0.069261  0.022064  ...  1.000000  0.018760\n",
              "SPEEDING          -0.036133  0.003745  ...  0.018760  1.000000\n",
              "\n",
              "[12 rows x 12 columns]"
            ]
          },
          "metadata": {
            "tags": []
          },
          "execution_count": 14
        }
      ]
    },
    {
      "cell_type": "markdown",
      "metadata": {
        "id": "vJ3ql7U2D7aR"
      },
      "source": [
        "The above correlation matrix can be visualized using heatmaps"
      ]
    },
    {
      "cell_type": "code",
      "metadata": {
        "colab": {
          "base_uri": "https://localhost:8080/",
          "height": 813
        },
        "id": "Q8R4nPqgEBhj",
        "outputId": "95b1085f-f2b7-4451-9ce9-542a5870d11c"
      },
      "source": [
        "plt.figure(figsize=(16, 12))\n",
        "sns.heatmap(dataclean.corr(), cmap='bwr', annot=True)"
      ],
      "execution_count": 15,
      "outputs": [
        {
          "output_type": "execute_result",
          "data": {
            "text/plain": [
              "<matplotlib.axes._subplots.AxesSubplot at 0x7f1983f49ed0>"
            ]
          },
          "metadata": {
            "tags": []
          },
          "execution_count": 15
        },
        {
          "output_type": "display_data",
          "data": {
            "image/png": "[encoded data removed]",
            "text/plain": [
              "<Figure size 1152x864 with 2 Axes>"
            ]
          },
          "metadata": {
            "tags": [],
            "needs_background": "light"
          }
        }
      ]
    },
    {
      "cell_type": "markdown",
      "metadata": {
        "id": "BQe3w3cdGwGz"
      },
      "source": [
        "We can see from heatmap that the feature 'speeding' has relatively high positive correlation with Fatal (our target variable).\n",
        "Let's understand the basic statistics of the data."
      ]
    },
    {
      "cell_type": "code",
      "metadata": {
        "colab": {
          "base_uri": "https://localhost:8080/",
          "height": 304
        },
        "id": "38MNq_g8JIZI",
        "outputId": "e7349854-b83b-4c41-fe5b-b0cbab23f1b5"
      },
      "source": [
        "dataclean.describe()"
      ],
      "execution_count": 16,
      "outputs": [
        {
          "output_type": "execute_result",
          "data": {
            "text/html": [
              "<div>\n",
              "<style scoped>\n",
              "    .dataframe tbody tr th:only-of-type {\n",
              "        vertical-align: middle;\n",
              "    }\n",
              "\n",
              "    .dataframe tbody tr th {\n",
              "        vertical-align: top;\n",
              "    }\n",
              "\n",
              "    .dataframe thead th {\n",
              "        text-align: right;\n",
              "    }\n",
              "</style>\n",
              "<table border=\"1\" class=\"dataframe\">\n",
              "  <thead>\n",
              "    <tr style=\"text-align: right;\">\n",
              "      <th></th>\n",
              "      <th>CRIMEID</th>\n",
              "      <th>PERSONID</th>\n",
              "      <th>PERSONTYPE</th>\n",
              "      <th>AGE</th>\n",
              "      <th>FATAL</th>\n",
              "      <th>MAJORINJURY</th>\n",
              "      <th>MINORINJURY</th>\n",
              "      <th>INVEHICLETYPE</th>\n",
              "      <th>TICKETISSUED</th>\n",
              "      <th>LICENSEPLATESTATE</th>\n",
              "      <th>IMPAIRED</th>\n",
              "      <th>SPEEDING</th>\n",
              "    </tr>\n",
              "  </thead>\n",
              "  <tbody>\n",
              "    <tr>\n",
              "      <th>count</th>\n",
              "      <td>5.963810e+05</td>\n",
              "      <td>5.963810e+05</td>\n",
              "      <td>596381.000000</td>\n",
              "      <td>596381.000000</td>\n",
              "      <td>596381.000000</td>\n",
              "      <td>596381.000000</td>\n",
              "      <td>596381.000000</td>\n",
              "      <td>596381.000000</td>\n",
              "      <td>596381.000000</td>\n",
              "      <td>596381.000000</td>\n",
              "      <td>596381.000000</td>\n",
              "      <td>596381.000000</td>\n",
              "    </tr>\n",
              "    <tr>\n",
              "      <th>mean</th>\n",
              "      <td>2.672116e+07</td>\n",
              "      <td>8.506922e+07</td>\n",
              "      <td>1.238420</td>\n",
              "      <td>39.064716</td>\n",
              "      <td>0.000699</td>\n",
              "      <td>0.035838</td>\n",
              "      <td>0.110746</td>\n",
              "      <td>14.211504</td>\n",
              "      <td>0.155146</td>\n",
              "      <td>19.980603</td>\n",
              "      <td>0.007965</td>\n",
              "      <td>0.007651</td>\n",
              "    </tr>\n",
              "    <tr>\n",
              "      <th>std</th>\n",
              "      <td>1.238390e+06</td>\n",
              "      <td>8.613766e+06</td>\n",
              "      <td>0.491526</td>\n",
              "      <td>21.667780</td>\n",
              "      <td>0.026433</td>\n",
              "      <td>0.185886</td>\n",
              "      <td>0.313818</td>\n",
              "      <td>3.209115</td>\n",
              "      <td>0.362044</td>\n",
              "      <td>16.572715</td>\n",
              "      <td>0.088889</td>\n",
              "      <td>0.087136</td>\n",
              "    </tr>\n",
              "    <tr>\n",
              "      <th>min</th>\n",
              "      <td>2.341134e+07</td>\n",
              "      <td>1.045383e+07</td>\n",
              "      <td>0.000000</td>\n",
              "      <td>-7990.000000</td>\n",
              "      <td>0.000000</td>\n",
              "      <td>0.000000</td>\n",
              "      <td>0.000000</td>\n",
              "      <td>0.000000</td>\n",
              "      <td>0.000000</td>\n",
              "      <td>0.000000</td>\n",
              "      <td>0.000000</td>\n",
              "      <td>0.000000</td>\n",
              "    </tr>\n",
              "    <tr>\n",
              "      <th>25%</th>\n",
              "      <td>2.532167e+07</td>\n",
              "      <td>8.474899e+07</td>\n",
              "      <td>1.000000</td>\n",
              "      <td>28.666667</td>\n",
              "      <td>0.000000</td>\n",
              "      <td>0.000000</td>\n",
              "      <td>0.000000</td>\n",
              "      <td>15.000000</td>\n",
              "      <td>0.000000</td>\n",
              "      <td>9.000000</td>\n",
              "      <td>0.000000</td>\n",
              "      <td>0.000000</td>\n",
              "    </tr>\n",
              "    <tr>\n",
              "      <th>50%</th>\n",
              "      <td>2.680585e+07</td>\n",
              "      <td>8.497752e+07</td>\n",
              "      <td>1.000000</td>\n",
              "      <td>38.000000</td>\n",
              "      <td>0.000000</td>\n",
              "      <td>0.000000</td>\n",
              "      <td>0.000000</td>\n",
              "      <td>15.000000</td>\n",
              "      <td>0.000000</td>\n",
              "      <td>12.000000</td>\n",
              "      <td>0.000000</td>\n",
              "      <td>0.000000</td>\n",
              "    </tr>\n",
              "    <tr>\n",
              "      <th>75%</th>\n",
              "      <td>2.769386e+07</td>\n",
              "      <td>8.712287e+07</td>\n",
              "      <td>1.000000</td>\n",
              "      <td>49.444444</td>\n",
              "      <td>0.000000</td>\n",
              "      <td>0.000000</td>\n",
              "      <td>0.000000</td>\n",
              "      <td>15.000000</td>\n",
              "      <td>0.000000</td>\n",
              "      <td>23.000000</td>\n",
              "      <td>0.000000</td>\n",
              "      <td>0.000000</td>\n",
              "    </tr>\n",
              "    <tr>\n",
              "      <th>max</th>\n",
              "      <td>2.872803e+07</td>\n",
              "      <td>9.077153e+07</td>\n",
              "      <td>3.000000</td>\n",
              "      <td>237.000000</td>\n",
              "      <td>1.000000</td>\n",
              "      <td>1.000000</td>\n",
              "      <td>1.000000</td>\n",
              "      <td>21.000000</td>\n",
              "      <td>1.000000</td>\n",
              "      <td>59.000000</td>\n",
              "      <td>1.000000</td>\n",
              "      <td>1.000000</td>\n",
              "    </tr>\n",
              "  </tbody>\n",
              "</table>\n",
              "</div>"
            ],
            "text/plain": [
              "            CRIMEID      PERSONID  ...       IMPAIRED       SPEEDING\n",
              "count  5.963810e+05  5.963810e+05  ...  596381.000000  596381.000000\n",
              "mean   2.672116e+07  8.506922e+07  ...       0.007965       0.007651\n",
              "std    1.238390e+06  8.613766e+06  ...       0.088889       0.087136\n",
              "min    2.341134e+07  1.045383e+07  ...       0.000000       0.000000\n",
              "25%    2.532167e+07  8.474899e+07  ...       0.000000       0.000000\n",
              "50%    2.680585e+07  8.497752e+07  ...       0.000000       0.000000\n",
              "75%    2.769386e+07  8.712287e+07  ...       0.000000       0.000000\n",
              "max    2.872803e+07  9.077153e+07  ...       1.000000       1.000000\n",
              "\n",
              "[8 rows x 12 columns]"
            ]
          },
          "metadata": {
            "tags": []
          },
          "execution_count": 16
        }
      ]
    },
    {
      "cell_type": "markdown",
      "metadata": {
        "id": "gujvMo76Jdq_"
      },
      "source": [
        "# **Model building**"
      ]
    },
    {
      "cell_type": "code",
      "metadata": {
        "id": "qHFcYqIaKkjG"
      },
      "source": [
        "from sklearn.model_selection import train_test_split\n",
        "# Splitting data into Input and Target Variable\n",
        "y = dataclean[['FATAL']] # target variable \n",
        "X = dataclean.drop(['FATAL','PERSONID'], axis=1) # input variables"
      ],
      "execution_count": 19,
      "outputs": []
    },
    {
      "cell_type": "code",
      "metadata": {
        "id": "hbZ4HRAoV67d"
      },
      "source": [
        "X_train, X_test, y_train, y_test = train_test_split(X, y, test_size = 0.2, random_state =42)"
      ],
      "execution_count": 21,
      "outputs": []
    },
    {
      "cell_type": "code",
      "metadata": {
        "id": "T_gZSdvuLrkT"
      },
      "source": [
        "from sklearn.linear_model import LogisticRegression\n",
        "lr = LogisticRegression()\n",
        "lr.fit(X_train, y_train)\n",
        "predictions = lr.predict(X_test)"
      ],
      "execution_count": 22,
      "outputs": []
    },
    {
      "cell_type": "code",
      "metadata": {
        "colab": {
          "base_uri": "https://localhost:8080/"
        },
        "id": "gKX5LEhTNGvw",
        "outputId": "15be9b4b-3795-4692-baff-c584bd0e5a38"
      },
      "source": [
        "from sklearn.metrics import accuracy_score,f1_score\n",
        "ac=accuracy_score(y_test, predictions)\n",
        "f_score = f1_score(y_test ,predictions)\n",
        "print(\"Model Accuracy:\", ac)\n",
        "print('The f1 score for the model model is:',f_score)"
      ],
      "execution_count": 23,
      "outputs": [
        {
          "output_type": "stream",
          "text": [
            "Model Accuracy: 0.999203534629476\n",
            "The f1 score for the model model is: 0.0\n"
          ],
          "name": "stdout"
        }
      ]
    },
    {
      "cell_type": "markdown",
      "metadata": {
        "id": "ltvoX5XVSTwD"
      },
      "source": [
        "Here, the accuracy of the mode on test data is 0.99 which is an excellent score. However, the f1 score is zero which indicates that the model is performing poorly on the minority class. This shows imbalance in class\n",
        "\n",
        "\n",
        "We can see the imbalance in the below plot"
      ]
    },
    {
      "cell_type": "code",
      "metadata": {
        "colab": {
          "base_uri": "https://localhost:8080/"
        },
        "id": "SJ1kf3UuS1OL",
        "outputId": "25c085d2-86ca-4c67-9a19-0e9eda6b6245"
      },
      "source": [
        "dataclean.FATAL.value_counts()"
      ],
      "execution_count": 24,
      "outputs": [
        {
          "output_type": "execute_result",
          "data": {
            "text/plain": [
              "0    595964\n",
              "1       417\n",
              "Name: FATAL, dtype: int64"
            ]
          },
          "metadata": {
            "tags": []
          },
          "execution_count": 24
        }
      ]
    },
    {
      "cell_type": "code",
      "metadata": {
        "colab": {
          "base_uri": "https://localhost:8080/"
        },
        "id": "JJPgwGVzTYtg",
        "outputId": "0df5a3c7-124e-4a84-d492-fdd81092b38c"
      },
      "source": [
        "dataclean.FATAL.value_counts() / len(dataclean) * 100"
      ],
      "execution_count": 25,
      "outputs": [
        {
          "output_type": "execute_result",
          "data": {
            "text/plain": [
              "0    99.930078\n",
              "1     0.069922\n",
              "Name: FATAL, dtype: float64"
            ]
          },
          "metadata": {
            "tags": []
          },
          "execution_count": 25
        }
      ]
    },
    {
      "cell_type": "code",
      "metadata": {
        "colab": {
          "base_uri": "https://localhost:8080/",
          "height": 296
        },
        "id": "MkzeoOUAS7fY",
        "outputId": "2a44ff25-69c8-4af3-b386-c3072ecb7316"
      },
      "source": [
        "sns.countplot(dataclean.FATAL)"
      ],
      "execution_count": 26,
      "outputs": [
        {
          "output_type": "execute_result",
          "data": {
            "text/plain": [
              "<matplotlib.axes._subplots.AxesSubplot at 0x7f19766aa110>"
            ]
          },
          "metadata": {
            "tags": []
          },
          "execution_count": 26
        },
        {
          "output_type": "display_data",
          "data": {
            "image/png": "[encoded data removed]",
            "text/plain": [
              "<Figure size 432x288 with 1 Axes>"
            ]
          },
          "metadata": {
            "tags": [],
            "needs_background": "light"
          }
        }
      ]
    },
    {
      "cell_type": "markdown",
      "metadata": {
        "id": "RJd1W1ALTcx6"
      },
      "source": [
        "We see, of 596381 records only 417 were fatal injuries.There are only 0.06 percent of the data which are fatal and the rest 99% are not fatal. This is clearly a class imbalance problem. \n",
        "\n",
        "\n",
        "we will use class_weight parameter to overcome this class imbalance"
      ]
    },
    {
      "cell_type": "code",
      "metadata": {
        "id": "D4u4mbooWgDO"
      },
      "source": [
        "from sklearn.linear_model import LogisticRegression\n",
        "lr = LogisticRegression(solver='newton-cg', class_weight='balanced')\n",
        "lr.fit(X_train, y_train)\n",
        "predictions = lr.predict(X_test)"
      ],
      "execution_count": 27,
      "outputs": []
    },
    {
      "cell_type": "code",
      "metadata": {
        "colab": {
          "base_uri": "https://localhost:8080/"
        },
        "id": "a3wrCF9CWooy",
        "outputId": "511a2d57-4d79-4be3-e6dc-f8a676df435d"
      },
      "source": [
        "from sklearn.metrics import accuracy_score,f1_score\n",
        "ac=accuracy_score(y_test, predictions)\n",
        "f_score = f1_score(y_test ,predictions)\n",
        "print(\"Model Accuracy:\", ac)\n",
        "print('The f1 score for the model is:',f_score)"
      ],
      "execution_count": 28,
      "outputs": [
        {
          "output_type": "stream",
          "text": [
            "Model Accuracy: 0.7901691021739312\n",
            "The f1 score for the model model is: 0.0043758453337576575\n"
          ],
          "name": "stdout"
        }
      ]
    },
    {
      "cell_type": "markdown",
      "metadata": {
        "id": "UgUnWoQCYXDv"
      },
      "source": [
        "By using single class_weight parameter we have improved F-score but it is not significant much and we can see our accuracy have decreased it shows our class imbalance has been solved and we got the actual accuracy of our model\n",
        "\n",
        "We can perform hyperparameter tuning to optimise our model\n",
        "\n",
        "**Hyperparameter tuning**:\n",
        "\n",
        "Let's try to figure out the best parameter values for the model"
      ]
    },
    {
      "cell_type": "code",
      "metadata": {
        "colab": {
          "base_uri": "https://localhost:8080/"
        },
        "id": "LNnRDXDfySnh",
        "outputId": "ef14f3e7-1d8b-4e46-b605-a52d26b7477c"
      },
      "source": [
        "penalty = ['l1', 'l2'] \n",
        "C = [0.0001, 0.001, 0.01, 0.1, 1, 10, 100, 1000] \n",
        "class_weight = [{1:0.5, 0:0.5}, {1:0.4, 0:0.6}, {1:0.6, 0:0.4}, {1:0.7, 0:0.3}]\n",
        "solver = ['lbfgs', 'saga','newton-cg'] \n",
        "param_grid = dict(penalty=penalty, \n",
        "C=C, \n",
        "class_weight=class_weight, \n",
        "solver=solver) \n",
        "logistic = LogisticRegression() \n",
        "grid = GridSearchCV(estimator=logistic, \n",
        "param_grid=param_grid, \n",
        "scoring='roc_auc', \n",
        "verbose=1, \n",
        "n_jobs=-1) \n",
        "grid_result = grid.fit(X_train, y_train) \n",
        "print('Best Score: ', grid_result.best_score_) \n",
        "print('Best Params: ', grid_result.best_params_) "
      ],
      "execution_count": 62,
      "outputs": [
        {
          "output_type": "stream",
          "text": [
            "Fitting 5 folds for each of 192 candidates, totalling 960 fits\n"
          ],
          "name": "stdout"
        },
        {
          "output_type": "stream",
          "text": [
            "[Parallel(n_jobs=-1)]: Using backend LokyBackend with 2 concurrent workers.\n",
            "[Parallel(n_jobs=-1)]: Done  46 tasks      | elapsed:  1.6min\n",
            "[Parallel(n_jobs=-1)]: Done 196 tasks      | elapsed:  9.9min\n",
            "[Parallel(n_jobs=-1)]: Done 446 tasks      | elapsed: 27.9min\n",
            "[Parallel(n_jobs=-1)]: Done 796 tasks      | elapsed: 54.0min\n",
            "[Parallel(n_jobs=-1)]: Done 960 out of 960 | elapsed: 67.7min finished\n"
          ],
          "name": "stderr"
        },
        {
          "output_type": "stream",
          "text": [
            "Best Score:  0.7722423772810326\n",
            "Best Params:  {'C': 100, 'class_weight': {1: 0.7, 0: 0.3}, 'penalty': 'l2', 'solver': 'newton-cg'}\n"
          ],
          "name": "stdout"
        }
      ]
    },
    {
      "cell_type": "markdown",
      "metadata": {
        "id": "8P4AhKsjdP7M"
      },
      "source": [
        "The tuning gave the same set of parameters we used to handle the class imbalance. Yet, let's try to implement and see if there is any improvement"
      ]
    },
    {
      "cell_type": "code",
      "metadata": {
        "id": "mdX3xCcZQ_11"
      },
      "source": [
        "from sklearn.linear_model import LogisticRegression\n",
        "lr1 = LogisticRegression(solver='newton-cg', class_weight='balanced',C=100,penalty='l2')\n",
        "lr1.fit(X_train, y_train)\n",
        "predictions = lr1.predict(X_test)"
      ],
      "execution_count": 65,
      "outputs": []
    },
    {
      "cell_type": "code",
      "metadata": {
        "colab": {
          "base_uri": "https://localhost:8080/"
        },
        "id": "hw2e8XaFRt81",
        "outputId": "f05ef022-c04b-4800-8c5f-b3775c6871ab"
      },
      "source": [
        "from sklearn.metrics import accuracy_score,f1_score\n",
        "ac=accuracy_score(y_test, predictions)\n",
        "f_score = f1_score(y_test ,predictions)\n",
        "print(\"Model Accuracy:\", ac)\n",
        "print('The f1 score for the model is:',f_score)"
      ],
      "execution_count": 66,
      "outputs": [
        {
          "output_type": "stream",
          "text": [
            "Model Accuracy: 0.7847196022703455\n",
            "The f1 score for the model is: 0.004419975186104218\n"
          ],
          "name": "stdout"
        }
      ]
    },
    {
      "cell_type": "markdown",
      "metadata": {
        "id": "zqwwSAHKeZBJ"
      },
      "source": [
        "The model still doesn't improve much after tuning the model. So, will try to use some advanced algorithim like 'Random Forest'"
      ]
    },
    {
      "cell_type": "code",
      "metadata": {
        "id": "If_HHipySxr1"
      },
      "source": [
        "from sklearn.ensemble import RandomForestClassifier\n",
        "rfc = RandomForestClassifier(criterion='entropy',class_weight='balanced')\n",
        "rfc.fit(X_train, y_train)\n",
        "predictions = rfc.predict(X_test)"
      ],
      "execution_count": 77,
      "outputs": []
    },
    {
      "cell_type": "code",
      "metadata": {
        "colab": {
          "base_uri": "https://localhost:8080/"
        },
        "id": "xeybj5xdWiOq",
        "outputId": "921ee110-13f7-459f-88b0-f9df68eb773b"
      },
      "source": [
        "rfc.score(X_test,y_test)"
      ],
      "execution_count": 79,
      "outputs": [
        {
          "output_type": "execute_result",
          "data": {
            "text/plain": [
              "0.9991783830914593"
            ]
          },
          "metadata": {
            "tags": []
          },
          "execution_count": 79
        }
      ]
    },
    {
      "cell_type": "markdown",
      "metadata": {
        "id": "PttLBz-Cgmoq"
      },
      "source": [
        "**Feature Selection:** \n",
        "\n",
        "Let's take only the top 6 features and check for the performance. Reducing the number of variables will help to reduce computational complexities , at the same time it will improve the performance in some cases"
      ]
    },
    {
      "cell_type": "code",
      "metadata": {
        "id": "HYY1IFVaTCwN"
      },
      "source": [
        "from sklearn.feature_selection import SelectKBest, f_classif\n",
        "selector = SelectKBest(f_classif, k=6)\n",
        "X_new = selector.fit_transform(X, y)"
      ],
      "execution_count": 81,
      "outputs": []
    },
    {
      "cell_type": "code",
      "metadata": {
        "colab": {
          "base_uri": "https://localhost:8080/"
        },
        "id": "c57YkZl6XcAt",
        "outputId": "6c961559-ebfa-4b92-f556-aedaba7ded8b"
      },
      "source": [
        "X_train, X_test, y_train, y_test = train_test_split(X_new, y, test_size = 0.2, random_state = 42)\n",
        "rfc.fit(X_train, y_train)\n",
        "rfc.score(X_test, y_test)"
      ],
      "execution_count": 84,
      "outputs": [
        {
          "output_type": "execute_result",
          "data": {
            "text/plain": [
              "0.998507675411018"
            ]
          },
          "metadata": {
            "tags": []
          },
          "execution_count": 84
        }
      ]
    },
    {
      "cell_type": "markdown",
      "metadata": {
        "id": "OCrU7lnihkqx"
      },
      "source": [
        "We can see that there is a minor reduction in accuracy. But we need to look that we got 99.9% accuracy when we used 10 features,now we selected only 6  features of 10 features and still able to get 99.8% accurate results.\n",
        "The conclusion is that we have reduced a lot of computational complexities since our moto is not only to increase the performance of the model but also to reduce the computational complexity of the model.\n",
        "\n",
        "\n",
        " **Cross validation:**\n",
        "\n",
        " Cross validation helps in dividing te train set to train and validation set. It helps us to understand which parameters we need to tune."
      ]
    },
    {
      "cell_type": "code",
      "metadata": {
        "colab": {
          "base_uri": "https://localhost:8080/"
        },
        "id": "VSo_eqE3Yd7Z",
        "outputId": "e8501d30-6d57-4c11-c110-5c8dc189ab28"
      },
      "source": [
        "from sklearn.model_selection import cross_validate\n",
        "cv_results = cross_validate(rfc, X_new, y, cv=10, scoring=[\"accuracy\", \"precision\", \"recall\"])\n",
        "cv_results"
      ],
      "execution_count": 86,
      "outputs": [
        {
          "output_type": "execute_result",
          "data": {
            "text/plain": [
              "{'fit_time': array([56.90336657, 57.437217  , 57.11249924, 57.53964353, 55.84073663,\n",
              "        57.77649188, 58.29067278, 56.16724825, 57.54637241, 58.12541318]),\n",
              " 'score_time': array([0.61537147, 0.6408112 , 0.62277079, 0.63965702, 0.56110168,\n",
              "        0.59660411, 0.64705968, 0.61931491, 0.6104064 , 0.62883878]),\n",
              " 'test_accuracy': array([0.99889334, 0.99787049, 0.99835675, 0.99880948, 0.99864181,\n",
              "        0.99813877, 0.99839029, 0.99860827, 0.99867534, 0.99823938]),\n",
              " 'test_precision': array([0.07142857, 0.01136364, 0.01694915, 0.        , 0.        ,\n",
              "        0.        , 0.        , 0.04444444, 0.02564103, 0.01538462]),\n",
              " 'test_recall': array([0.04761905, 0.02439024, 0.02439024, 0.        , 0.        ,\n",
              "        0.        , 0.        , 0.04761905, 0.02380952, 0.02380952])}"
            ]
          },
          "metadata": {
            "tags": []
          },
          "execution_count": 86
        }
      ]
    },
    {
      "cell_type": "code",
      "metadata": {
        "colab": {
          "base_uri": "https://localhost:8080/"
        },
        "id": "EyScBTJNYjB0",
        "outputId": "fc91fc66-b1f6-4f99-e593-f2af8042c3ff"
      },
      "source": [
        "print(\"Accuracy: \", cv_results[\"test_accuracy\"].mean())"
      ],
      "execution_count": 87,
      "outputs": [
        {
          "output_type": "stream",
          "text": [
            "Accuracy:  0.9984623916071269\n"
          ],
          "name": "stdout"
        }
      ]
    },
    {
      "cell_type": "markdown",
      "metadata": {
        "id": "HMcQ9-OFjB2X"
      },
      "source": [
        "Even, the cross validation shows an accuracy of 99.8%. Most of the times the default values for hyper parameters of the models are same that we get through the hyper parameter tunning. That's the reason we are not doing hyper parameter tuning again , since there will not be much difference in normal model and tunned model.Hence, the model has very good accuracy where it predicts the feature 'fatal' when only top 6 features are feeded to it."
      ]
    },
    {
      "cell_type": "markdown",
      "metadata": {
        "id": "9iMqq9a_tY00"
      },
      "source": [
        "# **Discussion:**\n",
        "\n",
        "According to the analysis, the attribute 'Speeding' had a positive correlation with the target 'Fatal'. This shows that exceeding the speed limit serves as major cause for crashes. Hence, policy to adapt intelligent speed assistant might help the drivers to control their speed according to the local speed limit. Setting up a speed monitor to the vehicles will help to keep track on the drivers history of speed violations, so that the police department can charge serious speed offenders. Severe charges and punishments for continuous violations in speed limit will reduce the number of crashes.\n",
        "\n",
        "Reference:\n",
        "\n",
        "van der Pas,J.W.G.M., Kessels,J., Veroude, B.D.G., & van Wee, B. (2014).\n",
        "Intelligent speed assistance for serious speeders: The results of the Dutch speedlock trial, *Accident Analysis & Prevention*, *72*, 78-94, https://doi.org/10.1016/j.aap.2014.05.031."
      ]
    }
  ]
}